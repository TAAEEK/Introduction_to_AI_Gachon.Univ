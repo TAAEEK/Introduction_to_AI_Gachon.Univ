{
 "cells": [
  {
   "cell_type": "markdown",
   "id": "ed628665-41d8-4dc7-ae69-44b5b320e26a",
   "metadata": {},
   "source": [
    "## IRIS 데이터 분류(의사결정나무, 랜덤포레스트, 서포트벡터머신, 로지스틱회귀)"
   ]
  },
  {
   "cell_type": "code",
   "execution_count": 18,
   "id": "defb9984-cf9e-4cae-8667-56d3f37a5cf8",
   "metadata": {},
   "outputs": [],
   "source": [
    "# 사용 패키지 불러오기\n",
    "import pandas as pd # 판다스\n",
    "from sklearn.model_selection import train_test_split # 훈련/테스트 세트 분리\n",
    "from sklearn.preprocessing import StandardScaler # 표준화\n",
    "from sklearn.tree import DecisionTreeClassifier # DT\n",
    "from sklearn.ensemble import RandomForestClassifier # RF\n",
    "from sklearn.svm import SVC # SVM\n",
    "from sklearn.linear_model import LogisticRegression # LR\n",
    "from sklearn.metrics import accuracy_score # 정확도"
   ]
  },
  {
   "cell_type": "code",
   "execution_count": 19,
   "id": "6bcbf5fa-9124-43a9-819d-26a0636c8807",
   "metadata": {},
   "outputs": [],
   "source": [
    "# 붓꽃 데이터 CSV 파일 읽기\n",
    "file_path = \"C:/Users/samsung-user/OneDrive/바탕 화면/인공지능개론/iris.csv\" \n",
    "df = pd.read_csv(file_path)"
   ]
  },
  {
   "cell_type": "code",
   "execution_count": 21,
   "id": "8876b0b2-4a3c-461c-bc64-795c39baeddb",
   "metadata": {},
   "outputs": [
    {
     "name": "stdout",
     "output_type": "stream",
     "text": [
      "   SepalLength  SepalWidth  PetalLength  PetalWidth         Name\n",
      "0          5.1         3.5          1.4         0.2  Iris-setosa\n",
      "1          4.9         3.0          1.4         0.2  Iris-setosa\n",
      "2          4.7         3.2          1.3         0.2  Iris-setosa\n",
      "3          4.6         3.1          1.5         0.2  Iris-setosa\n",
      "4          5.0         3.6          1.4         0.2  Iris-setosa\n",
      "Index(['SepalLength', 'SepalWidth', 'PetalLength', 'PetalWidth', 'Name'], dtype='object')\n"
     ]
    }
   ],
   "source": [
    "# 데이터프레임 확인\n",
    "print(df.head())  \n",
    "print(df.columns) "
   ]
  },
  {
   "cell_type": "code",
   "execution_count": 22,
   "id": "040e9711-7d05-47e6-931d-9b32587e3bac",
   "metadata": {},
   "outputs": [],
   "source": [
    "# 훈련 세트 & 테스트 세트 분할 (8:2)\n",
    "X = df.drop(columns=['Name'])  # 타겟 변수 : 'species' (클래스 레이블)\n",
    "y = df['Name']\n",
    "X_train, X_test, y_train, y_test = train_test_split(X, y, test_size=0.2, random_state=42, stratify=y)"
   ]
  },
  {
   "cell_type": "code",
   "execution_count": 23,
   "id": "8cfa2eab-768d-4a2e-b11d-0452a9b11b31",
   "metadata": {},
   "outputs": [],
   "source": [
    "# 표준화\n",
    "scaler = StandardScaler()\n",
    "X_train_scaled = scaler.fit_transform(X_train)\n",
    "X_test_scaled = scaler.transform(X_test)"
   ]
  },
  {
   "cell_type": "code",
   "execution_count": 24,
   "id": "8facb971-cd08-41c4-9f3a-af6ed1e544f6",
   "metadata": {},
   "outputs": [],
   "source": [
    "# 모델 : 의사결정나무(DT), 랜덤포레스트(RF), 서포트벡터머신(SVM), 로지스틱선형회귀(LR)\n",
    "models = {\n",
    "    \"Decision Tree\": DecisionTreeClassifier(random_state=42),\n",
    "    \"Random Forest\": RandomForestClassifier(n_estimators=100, random_state=42),\n",
    "    \"SVM\": SVC(kernel='linear', random_state=42),\n",
    "    \"Logistic Regression\": LogisticRegression(max_iter=200, random_state=42)\n",
    "}"
   ]
  },
  {
   "cell_type": "code",
   "execution_count": 25,
   "id": "13287a1d-1e9a-48ef-bf95-912e7a5c6e8e",
   "metadata": {},
   "outputs": [
    {
     "name": "stdout",
     "output_type": "stream",
     "text": [
      "Decision Tree Accuracy: 0.9333\n",
      "Random Forest Accuracy: 0.9000\n",
      "SVM Accuracy: 1.0000\n",
      "Logistic Regression Accuracy: 0.9333\n"
     ]
    }
   ],
   "source": [
    "# 모델 학습 및 평가\n",
    "for name, model in models.items():\n",
    "    if name in [\"SVM\", \"Logistic Regression\"]:  \n",
    "        model.fit(X_train_scaled, y_train)  # 🔹 SVM, LR은 표준화 데이터 사용\n",
    "        y_pred = model.predict(X_test_scaled)\n",
    "    else:\n",
    "        model.fit(X_train, y_train)  # 🔹 DT, RF는 원본 데이터 사용\n",
    "        y_pred = model.predict(X_test)\n",
    "    \n",
    "    accuracy = accuracy_score(y_test, y_pred)\n",
    "    print(f\"{name} Accuracy: {accuracy:.4f}\")"
   ]
  },
  {
   "cell_type": "code",
   "execution_count": null,
   "id": "8b1bb4c7-a1fc-4058-b164-eb168d9c5a9f",
   "metadata": {},
   "outputs": [],
   "source": [
    "# 결론 : 네가지 모델의 정확도가 모두 90% 이상으로 높게 나타남. 다만 정확도가 높다고 해서 항상 좋은 모델이라는 것은 아님."
   ]
  }
 ],
 "metadata": {
  "kernelspec": {
   "display_name": "Python 3 (ipykernel)",
   "language": "python",
   "name": "python3"
  },
  "language_info": {
   "codemirror_mode": {
    "name": "ipython",
    "version": 3
   },
   "file_extension": ".py",
   "mimetype": "text/x-python",
   "name": "python",
   "nbconvert_exporter": "python",
   "pygments_lexer": "ipython3",
   "version": "3.12.7"
  }
 },
 "nbformat": 4,
 "nbformat_minor": 5
}
