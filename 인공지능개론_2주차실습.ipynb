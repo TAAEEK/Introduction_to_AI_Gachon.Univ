{
 "cells": [
  {
   "cell_type": "markdown",
   "id": "0ced6337-b107-4c43-bd69-0ce9fe78be26",
   "metadata": {},
   "source": [
    "## mobile 데이터 분류"
   ]
  },
  {
   "cell_type": "code",
   "execution_count": 1,
   "id": "638eba13-5fda-4dd0-a6f6-65e4a235bb13",
   "metadata": {},
   "outputs": [],
   "source": [
    "# 사용 패키지 불러오기\n",
    "import pandas as pd # 판다스\n",
    "from sklearn.model_selection import train_test_split # 훈련/테스트 세트 분리\n",
    "from sklearn.preprocessing import StandardScaler # 표준화\n",
    "from sklearn.tree import DecisionTreeClassifier # DT\n",
    "from sklearn.ensemble import RandomForestClassifier # RF\n",
    "from sklearn.svm import SVC # SVM\n",
    "from sklearn.linear_model import LogisticRegression # LR\n",
    "from sklearn.metrics import accuracy_score # 정확도"
   ]
  },
  {
   "cell_type": "code",
   "execution_count": 2,
   "id": "3356904e-7a0c-41c4-9b11-c7fd81b13574",
   "metadata": {},
   "outputs": [],
   "source": [
    "file_path = \"C:/Users/samsung-user/OneDrive/바탕 화면/인공지능개론/1주차/mobile.csv\" \n",
    "df = pd.read_csv(file_path)"
   ]
  },
  {
   "cell_type": "code",
   "execution_count": 13,
   "id": "771e9cd9-1f35-41ff-a747-73e2e80a7be1",
   "metadata": {},
   "outputs": [
    {
     "data": {
      "text/plain": [
       "array([1, 2, 3, 0], dtype=int64)"
      ]
     },
     "execution_count": 13,
     "metadata": {},
     "output_type": "execute_result"
    }
   ],
   "source": [
    "pd.unique(df['price_range']) # 타겟 변수(범주형)"
   ]
  },
  {
   "cell_type": "code",
   "execution_count": 3,
   "id": "f3d74372-67b2-4618-9c07-a243fa7fee65",
   "metadata": {},
   "outputs": [
    {
     "name": "stdout",
     "output_type": "stream",
     "text": [
      "   battery_power  blue  clock_speed  dual_sim  fc  four_g  int_memory  m_dep  \\\n",
      "0            842     0          2.2         0   1       0           7    0.6   \n",
      "1           1021     1          0.5         1   0       1          53    0.7   \n",
      "2            563     1          0.5         1   2       1          41    0.9   \n",
      "3            615     1          2.5         0   0       0          10    0.8   \n",
      "4           1821     1          1.2         0  13       1          44    0.6   \n",
      "\n",
      "   mobile_wt  n_cores  ...  px_height  px_width   ram  sc_h  sc_w  talk_time  \\\n",
      "0        188        2  ...         20       756  2549     9     7         19   \n",
      "1        136        3  ...        905      1988  2631    17     3          7   \n",
      "2        145        5  ...       1263      1716  2603    11     2          9   \n",
      "3        131        6  ...       1216      1786  2769    16     8         11   \n",
      "4        141        2  ...       1208      1212  1411     8     2         15   \n",
      "\n",
      "   three_g  touch_screen  wifi  price_range  \n",
      "0        0             0     1            1  \n",
      "1        1             1     0            2  \n",
      "2        1             1     0            2  \n",
      "3        1             0     0            2  \n",
      "4        1             1     0            1  \n",
      "\n",
      "[5 rows x 21 columns]\n",
      "Index(['battery_power', 'blue', 'clock_speed', 'dual_sim', 'fc', 'four_g',\n",
      "       'int_memory', 'm_dep', 'mobile_wt', 'n_cores', 'pc', 'px_height',\n",
      "       'px_width', 'ram', 'sc_h', 'sc_w', 'talk_time', 'three_g',\n",
      "       'touch_screen', 'wifi', 'price_range'],\n",
      "      dtype='object')\n"
     ]
    }
   ],
   "source": [
    "print(df.head())  \n",
    "print(df.columns) "
   ]
  },
  {
   "cell_type": "code",
   "execution_count": 5,
   "id": "055053b0-9c4c-4c0c-84eb-d63607301afb",
   "metadata": {},
   "outputs": [],
   "source": [
    "# 훈련 세트 & 테스트 세트 분할 (8:2)\n",
    "X = df.drop(columns=['price_range'])  # 타겟 변수 : 'price_range' (클래스 레이블)\n",
    "y = df['price_range']\n",
    "X_train, X_test, y_train, y_test = train_test_split(X, y, test_size=0.2, random_state=42, stratify=y)"
   ]
  },
  {
   "cell_type": "code",
   "execution_count": 6,
   "id": "d6e45170-970d-4771-926e-dd544b517cd1",
   "metadata": {},
   "outputs": [],
   "source": [
    "# 표준화\n",
    "scaler = StandardScaler()\n",
    "X_train_scaled = scaler.fit_transform(X_train)\n",
    "X_test_scaled = scaler.transform(X_test)"
   ]
  },
  {
   "cell_type": "code",
   "execution_count": 7,
   "id": "e803fe08-ff71-42d2-836e-3b88316c4d00",
   "metadata": {},
   "outputs": [],
   "source": [
    "# 모델 : 의사결정나무(DT), 랜덤포레스트(RF), 서포트벡터머신(SVM), 로지스틱선형회귀(LR)\n",
    "models = {\n",
    "    \"Decision Tree\": DecisionTreeClassifier(random_state=42),\n",
    "    \"Random Forest\": RandomForestClassifier(n_estimators=100, random_state=42),\n",
    "    \"SVM\": SVC(kernel='linear', random_state=42),\n",
    "    \"Logistic Regression\": LogisticRegression(max_iter=200, random_state=42)\n",
    "}"
   ]
  },
  {
   "cell_type": "code",
   "execution_count": 8,
   "id": "fa31893c-afa2-46ab-af67-12d03b888441",
   "metadata": {},
   "outputs": [
    {
     "name": "stdout",
     "output_type": "stream",
     "text": [
      "Decision Tree Accuracy: 0.8300\n",
      "Random Forest Accuracy: 0.8800\n",
      "SVM Accuracy: 0.9625\n",
      "Logistic Regression Accuracy: 0.9650\n"
     ]
    }
   ],
   "source": [
    "# 모델 학습 및 평가\n",
    "for name, model in models.items():\n",
    "    if name in [\"SVM\", \"Logistic Regression\"]:  \n",
    "        model.fit(X_train_scaled, y_train)  # 🔹 SVM, LR은 표준화 데이터 사용\n",
    "        y_pred = model.predict(X_test_scaled)\n",
    "    else:\n",
    "        model.fit(X_train, y_train)  # 🔹 DT, RF는 원본 데이터 사용\n",
    "        y_pred = model.predict(X_test)\n",
    "    \n",
    "    accuracy = accuracy_score(y_test, y_pred)\n",
    "    print(f\"{name} Accuracy: {accuracy:.4f}\")"
   ]
  },
  {
   "cell_type": "code",
   "execution_count": null,
   "id": "50d62f87-edbd-4700-8e4e-2622f7c354c0",
   "metadata": {},
   "outputs": [],
   "source": []
  }
 ],
 "metadata": {
  "kernelspec": {
   "display_name": "Python 3 (ipykernel)",
   "language": "python",
   "name": "python3"
  },
  "language_info": {
   "codemirror_mode": {
    "name": "ipython",
    "version": 3
   },
   "file_extension": ".py",
   "mimetype": "text/x-python",
   "name": "python",
   "nbconvert_exporter": "python",
   "pygments_lexer": "ipython3",
   "version": "3.12.7"
  }
 },
 "nbformat": 4,
 "nbformat_minor": 5
}
